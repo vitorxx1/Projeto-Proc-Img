{
 "cells": [
  {
   "cell_type": "markdown",
   "id": "29d9a8c0-1954-4d7e-a618-89d06acfdc8e",
   "metadata": {},
   "source": [
    "<center>\n",
    "    <h1 style=\"color:rgb(207, 190, 6);font-size:40px\"><b>Classificação de Imagens - Guepardos x Hienas</b></h1>\n",
    "</center>"
   ]
  },
  {
   "cell_type": "markdown",
   "id": "b503349a-98c4-459c-a60c-f909a6b75d92",
   "metadata": {},
   "source": [
    "<center><img src=\"guepardo_hiena.jpg\" width=700/>"
   ]
  },
  {
   "cell_type": "markdown",
   "id": "6f29e4b8-0556-475a-9729-c40e17e6857f",
   "metadata": {},
   "source": [
    "# **Descrição do Problema**\n",
    "\n",
    "<p>Este Jupyter Notebook será utilizado para o desenvolvimento do projeto da disciplina de Processamento de Imagens, da UTFPR-CP. O objetivo do trabalho é criar uma arquitetura de Convolutional Neural Network (CNN) para classificação de imagens de um problema qualquer, à escolha do aluno. Para tanto, optou-se pelo problema de classificar guepardos e hienas, animais que apresentam uma ligeira semelhança em seu aspecto de pelagem. Para tanto, o conjunto de imagens foi obtido no Kaggle, podendo ser acessado através desse <a href=\"https://www.kaggle.com/datasets/singhdatascientist/for-image-classification-of-cheetah-vs-hyena\" target = \"blank\">link.</p>\n",
    "\n",
    "Com isso em mente, ao longo deste notebook serão desenvolvidas as tarefas:\n",
    "- Aplicação de técnicas de processamento de imagens;\n",
    "- Criação de arquitetura de CNN, utilizando o TensorFlow/Keras;"
   ]
  },
  {
   "cell_type": "markdown",
   "id": "810d3f1b-5919-42f9-9ae4-77bfeb46b9da",
   "metadata": {},
   "source": [
    "# **Importação dos pacotes e bibliotecas**"
   ]
  },
  {
   "cell_type": "code",
   "execution_count": null,
   "id": "2e4540da-d1f4-40fb-bac3-4a46c30ad9d2",
   "metadata": {},
   "outputs": [],
   "source": []
  }
 ],
 "metadata": {
  "kernelspec": {
   "display_name": "Python 3 (ipykernel)",
   "language": "python",
   "name": "python3"
  },
  "language_info": {
   "codemirror_mode": {
    "name": "ipython",
    "version": 3
   },
   "file_extension": ".py",
   "mimetype": "text/x-python",
   "name": "python",
   "nbconvert_exporter": "python",
   "pygments_lexer": "ipython3",
   "version": "3.8.12"
  }
 },
 "nbformat": 4,
 "nbformat_minor": 5
}
